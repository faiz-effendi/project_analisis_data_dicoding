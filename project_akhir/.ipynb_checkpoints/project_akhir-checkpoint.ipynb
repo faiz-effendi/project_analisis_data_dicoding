{
 "cells": [
  {
   "cell_type": "markdown",
   "id": "593a1062-469c-4f3b-8062-92038de4d062",
   "metadata": {},
   "source": [
    "# Proyek analisis Data: Bike Sharing Dataset\n",
    "- **Nama:** Nandisya Faiz Effendi\n",
    "- **Email:** faizeffendi2004@gmail.com\n",
    "- **ID Dicoding:** faiz-effendi"
   ]
  },
  {
   "cell_type": "markdown",
   "id": "f1b966ac-9cb1-47b5-a5cf-c20829806f7a",
   "metadata": {},
   "source": [
    "# Menentukan Pertanyaan Bisnis"
   ]
  },
  {
   "cell_type": "markdown",
   "id": "8bc25324-5e4c-4db4-9a4e-5378ee155f86",
   "metadata": {},
   "source": [
    "- Bagaimana tren penyewaan sepeda keseluruhan bervariasi antara musim?\n",
    "- Apa dampak adanya hari libur terhadap penyewaan sepeda keseluruhan dibanding dengan hari kerja?"
   ]
  },
  {
   "cell_type": "markdown",
   "id": "3571cdca-2e92-45b2-a08a-a9665c48cb52",
   "metadata": {},
   "source": [
    "# Import Semua Packages/Library yang Digunakan"
   ]
  },
  {
   "cell_type": "code",
   "execution_count": 1,
   "id": "3f768028-5cb1-4a3c-9d54-4aff74d12aa4",
   "metadata": {},
   "outputs": [],
   "source": [
    "# data process\n",
    "import pandas as pd\n",
    "import numpy as np\n",
    "\n",
    "# data visualization\n",
    "import matplotlib.pyplot as plt\n",
    "import seaborn as sns\n",
    "\n",
    "# dashboard\n",
    "import streamlit as st"
   ]
  },
  {
   "cell_type": "markdown",
   "id": "fbc0c514-2012-44b8-8af2-127191c8895d",
   "metadata": {},
   "source": [
    "# Data Wrangling"
   ]
  },
  {
   "cell_type": "markdown",
   "id": "5ce683ea-f8d8-4d4f-b48f-4b1c67fa1c64",
   "metadata": {},
   "source": [
    "## Gathering Data"
   ]
  },
  {
   "cell_type": "code",
   "execution_count": 2,
   "id": "7d65a039-0074-44b1-9103-a9114070f75c",
   "metadata": {},
   "outputs": [],
   "source": [
    "day_df = pd.read_csv('./day.csv')\n",
    "hour_df = pd.read_csv('./hour.csv') # tidak digunakan "
   ]
  },
  {
   "cell_type": "code",
   "execution_count": 3,
   "id": "6fd5cfc6-de78-49f2-a214-889f8bb84651",
   "metadata": {},
   "outputs": [
    {
     "data": {
      "text/html": [
       "<div>\n",
       "<style scoped>\n",
       "    .dataframe tbody tr th:only-of-type {\n",
       "        vertical-align: middle;\n",
       "    }\n",
       "\n",
       "    .dataframe tbody tr th {\n",
       "        vertical-align: top;\n",
       "    }\n",
       "\n",
       "    .dataframe thead th {\n",
       "        text-align: right;\n",
       "    }\n",
       "</style>\n",
       "<table border=\"1\" class=\"dataframe\">\n",
       "  <thead>\n",
       "    <tr style=\"text-align: right;\">\n",
       "      <th></th>\n",
       "      <th>instant</th>\n",
       "      <th>dteday</th>\n",
       "      <th>season</th>\n",
       "      <th>yr</th>\n",
       "      <th>mnth</th>\n",
       "      <th>holiday</th>\n",
       "      <th>weekday</th>\n",
       "      <th>workingday</th>\n",
       "      <th>weathersit</th>\n",
       "      <th>temp</th>\n",
       "      <th>atemp</th>\n",
       "      <th>hum</th>\n",
       "      <th>windspeed</th>\n",
       "      <th>casual</th>\n",
       "      <th>registered</th>\n",
       "      <th>cnt</th>\n",
       "    </tr>\n",
       "  </thead>\n",
       "  <tbody>\n",
       "    <tr>\n",
       "      <th>395</th>\n",
       "      <td>396</td>\n",
       "      <td>2012-01-31</td>\n",
       "      <td>1</td>\n",
       "      <td>1</td>\n",
       "      <td>1</td>\n",
       "      <td>0</td>\n",
       "      <td>2</td>\n",
       "      <td>1</td>\n",
       "      <td>1</td>\n",
       "      <td>0.390000</td>\n",
       "      <td>0.381317</td>\n",
       "      <td>0.416667</td>\n",
       "      <td>0.261817</td>\n",
       "      <td>324</td>\n",
       "      <td>4185</td>\n",
       "      <td>4509</td>\n",
       "    </tr>\n",
       "    <tr>\n",
       "      <th>647</th>\n",
       "      <td>648</td>\n",
       "      <td>2012-10-09</td>\n",
       "      <td>4</td>\n",
       "      <td>1</td>\n",
       "      <td>10</td>\n",
       "      <td>0</td>\n",
       "      <td>2</td>\n",
       "      <td>1</td>\n",
       "      <td>2</td>\n",
       "      <td>0.446667</td>\n",
       "      <td>0.438112</td>\n",
       "      <td>0.761667</td>\n",
       "      <td>0.190300</td>\n",
       "      <td>601</td>\n",
       "      <td>5791</td>\n",
       "      <td>6392</td>\n",
       "    </tr>\n",
       "    <tr>\n",
       "      <th>588</th>\n",
       "      <td>589</td>\n",
       "      <td>2012-08-11</td>\n",
       "      <td>3</td>\n",
       "      <td>1</td>\n",
       "      <td>8</td>\n",
       "      <td>0</td>\n",
       "      <td>6</td>\n",
       "      <td>0</td>\n",
       "      <td>2</td>\n",
       "      <td>0.692500</td>\n",
       "      <td>0.638267</td>\n",
       "      <td>0.732917</td>\n",
       "      <td>0.206479</td>\n",
       "      <td>2247</td>\n",
       "      <td>4052</td>\n",
       "      <td>6299</td>\n",
       "    </tr>\n",
       "    <tr>\n",
       "      <th>562</th>\n",
       "      <td>563</td>\n",
       "      <td>2012-07-16</td>\n",
       "      <td>3</td>\n",
       "      <td>1</td>\n",
       "      <td>7</td>\n",
       "      <td>0</td>\n",
       "      <td>1</td>\n",
       "      <td>1</td>\n",
       "      <td>1</td>\n",
       "      <td>0.763333</td>\n",
       "      <td>0.724125</td>\n",
       "      <td>0.645000</td>\n",
       "      <td>0.164187</td>\n",
       "      <td>1088</td>\n",
       "      <td>5742</td>\n",
       "      <td>6830</td>\n",
       "    </tr>\n",
       "    <tr>\n",
       "      <th>37</th>\n",
       "      <td>38</td>\n",
       "      <td>2011-02-07</td>\n",
       "      <td>1</td>\n",
       "      <td>0</td>\n",
       "      <td>2</td>\n",
       "      <td>0</td>\n",
       "      <td>1</td>\n",
       "      <td>1</td>\n",
       "      <td>1</td>\n",
       "      <td>0.271667</td>\n",
       "      <td>0.303658</td>\n",
       "      <td>0.738333</td>\n",
       "      <td>0.045408</td>\n",
       "      <td>120</td>\n",
       "      <td>1592</td>\n",
       "      <td>1712</td>\n",
       "    </tr>\n",
       "  </tbody>\n",
       "</table>\n",
       "</div>"
      ],
      "text/plain": [
       "     instant      dteday  season  yr  mnth  holiday  weekday  workingday  \\\n",
       "395      396  2012-01-31       1   1     1        0        2           1   \n",
       "647      648  2012-10-09       4   1    10        0        2           1   \n",
       "588      589  2012-08-11       3   1     8        0        6           0   \n",
       "562      563  2012-07-16       3   1     7        0        1           1   \n",
       "37        38  2011-02-07       1   0     2        0        1           1   \n",
       "\n",
       "     weathersit      temp     atemp       hum  windspeed  casual  registered  \\\n",
       "395           1  0.390000  0.381317  0.416667   0.261817     324        4185   \n",
       "647           2  0.446667  0.438112  0.761667   0.190300     601        5791   \n",
       "588           2  0.692500  0.638267  0.732917   0.206479    2247        4052   \n",
       "562           1  0.763333  0.724125  0.645000   0.164187    1088        5742   \n",
       "37            1  0.271667  0.303658  0.738333   0.045408     120        1592   \n",
       "\n",
       "      cnt  \n",
       "395  4509  \n",
       "647  6392  \n",
       "588  6299  \n",
       "562  6830  \n",
       "37   1712  "
      ]
     },
     "execution_count": 3,
     "metadata": {},
     "output_type": "execute_result"
    }
   ],
   "source": [
    "day_df.sample(5)"
   ]
  },
  {
   "cell_type": "code",
   "execution_count": 4,
   "id": "5cffb7dc-0de7-45c8-a5fe-1d44d1ebcde2",
   "metadata": {},
   "outputs": [
    {
     "data": {
      "text/html": [
       "<div>\n",
       "<style scoped>\n",
       "    .dataframe tbody tr th:only-of-type {\n",
       "        vertical-align: middle;\n",
       "    }\n",
       "\n",
       "    .dataframe tbody tr th {\n",
       "        vertical-align: top;\n",
       "    }\n",
       "\n",
       "    .dataframe thead th {\n",
       "        text-align: right;\n",
       "    }\n",
       "</style>\n",
       "<table border=\"1\" class=\"dataframe\">\n",
       "  <thead>\n",
       "    <tr style=\"text-align: right;\">\n",
       "      <th></th>\n",
       "      <th>instant</th>\n",
       "      <th>dteday</th>\n",
       "      <th>season</th>\n",
       "      <th>yr</th>\n",
       "      <th>mnth</th>\n",
       "      <th>hr</th>\n",
       "      <th>holiday</th>\n",
       "      <th>weekday</th>\n",
       "      <th>workingday</th>\n",
       "      <th>weathersit</th>\n",
       "      <th>temp</th>\n",
       "      <th>atemp</th>\n",
       "      <th>hum</th>\n",
       "      <th>windspeed</th>\n",
       "      <th>casual</th>\n",
       "      <th>registered</th>\n",
       "      <th>cnt</th>\n",
       "    </tr>\n",
       "  </thead>\n",
       "  <tbody>\n",
       "    <tr>\n",
       "      <th>2496</th>\n",
       "      <td>2497</td>\n",
       "      <td>2011-04-18</td>\n",
       "      <td>2</td>\n",
       "      <td>0</td>\n",
       "      <td>4</td>\n",
       "      <td>22</td>\n",
       "      <td>0</td>\n",
       "      <td>1</td>\n",
       "      <td>1</td>\n",
       "      <td>1</td>\n",
       "      <td>0.52</td>\n",
       "      <td>0.5000</td>\n",
       "      <td>0.55</td>\n",
       "      <td>0.2836</td>\n",
       "      <td>9</td>\n",
       "      <td>81</td>\n",
       "      <td>90</td>\n",
       "    </tr>\n",
       "    <tr>\n",
       "      <th>353</th>\n",
       "      <td>354</td>\n",
       "      <td>2011-01-16</td>\n",
       "      <td>1</td>\n",
       "      <td>0</td>\n",
       "      <td>1</td>\n",
       "      <td>5</td>\n",
       "      <td>0</td>\n",
       "      <td>0</td>\n",
       "      <td>0</td>\n",
       "      <td>2</td>\n",
       "      <td>0.26</td>\n",
       "      <td>0.2576</td>\n",
       "      <td>0.56</td>\n",
       "      <td>0.1642</td>\n",
       "      <td>1</td>\n",
       "      <td>1</td>\n",
       "      <td>2</td>\n",
       "    </tr>\n",
       "    <tr>\n",
       "      <th>6487</th>\n",
       "      <td>6488</td>\n",
       "      <td>2011-10-02</td>\n",
       "      <td>4</td>\n",
       "      <td>0</td>\n",
       "      <td>10</td>\n",
       "      <td>21</td>\n",
       "      <td>0</td>\n",
       "      <td>0</td>\n",
       "      <td>0</td>\n",
       "      <td>1</td>\n",
       "      <td>0.36</td>\n",
       "      <td>0.3485</td>\n",
       "      <td>0.71</td>\n",
       "      <td>0.2239</td>\n",
       "      <td>17</td>\n",
       "      <td>71</td>\n",
       "      <td>88</td>\n",
       "    </tr>\n",
       "    <tr>\n",
       "      <th>6181</th>\n",
       "      <td>6182</td>\n",
       "      <td>2011-09-20</td>\n",
       "      <td>3</td>\n",
       "      <td>0</td>\n",
       "      <td>9</td>\n",
       "      <td>3</td>\n",
       "      <td>0</td>\n",
       "      <td>2</td>\n",
       "      <td>1</td>\n",
       "      <td>2</td>\n",
       "      <td>0.54</td>\n",
       "      <td>0.5152</td>\n",
       "      <td>0.83</td>\n",
       "      <td>0.2239</td>\n",
       "      <td>0</td>\n",
       "      <td>3</td>\n",
       "      <td>3</td>\n",
       "    </tr>\n",
       "    <tr>\n",
       "      <th>1759</th>\n",
       "      <td>1760</td>\n",
       "      <td>2011-03-19</td>\n",
       "      <td>1</td>\n",
       "      <td>0</td>\n",
       "      <td>3</td>\n",
       "      <td>0</td>\n",
       "      <td>0</td>\n",
       "      <td>6</td>\n",
       "      <td>0</td>\n",
       "      <td>2</td>\n",
       "      <td>0.60</td>\n",
       "      <td>0.6212</td>\n",
       "      <td>0.53</td>\n",
       "      <td>0.2537</td>\n",
       "      <td>26</td>\n",
       "      <td>50</td>\n",
       "      <td>76</td>\n",
       "    </tr>\n",
       "  </tbody>\n",
       "</table>\n",
       "</div>"
      ],
      "text/plain": [
       "      instant      dteday  season  yr  mnth  hr  holiday  weekday  workingday  \\\n",
       "2496     2497  2011-04-18       2   0     4  22        0        1           1   \n",
       "353       354  2011-01-16       1   0     1   5        0        0           0   \n",
       "6487     6488  2011-10-02       4   0    10  21        0        0           0   \n",
       "6181     6182  2011-09-20       3   0     9   3        0        2           1   \n",
       "1759     1760  2011-03-19       1   0     3   0        0        6           0   \n",
       "\n",
       "      weathersit  temp   atemp   hum  windspeed  casual  registered  cnt  \n",
       "2496           1  0.52  0.5000  0.55     0.2836       9          81   90  \n",
       "353            2  0.26  0.2576  0.56     0.1642       1           1    2  \n",
       "6487           1  0.36  0.3485  0.71     0.2239      17          71   88  \n",
       "6181           2  0.54  0.5152  0.83     0.2239       0           3    3  \n",
       "1759           2  0.60  0.6212  0.53     0.2537      26          50   76  "
      ]
     },
     "execution_count": 4,
     "metadata": {},
     "output_type": "execute_result"
    }
   ],
   "source": [
    "hour_df.sample(5)"
   ]
  },
  {
   "cell_type": "markdown",
   "id": "693ebb84-2ae2-48c0-ac95-c9ca8edc2643",
   "metadata": {},
   "source": [
    "**Insight:**\n",
    "- perbedaan hanya pada hour.csv memiliki column/feature hr yang mewakilkan hours (0 - 23)"
   ]
  },
  {
   "cell_type": "markdown",
   "id": "87f5443e-0f74-44e1-9122-4fc804733ad4",
   "metadata": {},
   "source": [
    "## Assessing Data"
   ]
  },
  {
   "cell_type": "markdown",
   "id": "01a84a35-4b8f-4df8-ae1f-27e8446852ec",
   "metadata": {},
   "source": [
    "### mencari missing value dalam dataframe"
   ]
  },
  {
   "cell_type": "code",
   "execution_count": 5,
   "id": "0ec7cd9d-b27c-4dad-ba03-8d4ba6bcffdb",
   "metadata": {},
   "outputs": [
    {
     "data": {
      "text/plain": [
       "instant       0\n",
       "dteday        0\n",
       "season        0\n",
       "yr            0\n",
       "mnth          0\n",
       "holiday       0\n",
       "weekday       0\n",
       "workingday    0\n",
       "weathersit    0\n",
       "temp          0\n",
       "atemp         0\n",
       "hum           0\n",
       "windspeed     0\n",
       "casual        0\n",
       "registered    0\n",
       "cnt           0\n",
       "dtype: int64"
      ]
     },
     "execution_count": 5,
     "metadata": {},
     "output_type": "execute_result"
    }
   ],
   "source": [
    "day_df.isna().sum()"
   ]
  },
  {
   "cell_type": "markdown",
   "id": "a8304d79-4e45-4516-b646-94579958e353",
   "metadata": {},
   "source": [
    "### menghitung banyak duplikasi dalam dataframe"
   ]
  },
  {
   "cell_type": "code",
   "execution_count": 6,
   "id": "87628adc-ca9f-4f27-8f06-271cb9d7017d",
   "metadata": {},
   "outputs": [
    {
     "name": "stdout",
     "output_type": "stream",
     "text": [
      "Duplikasi data: 0\n"
     ]
    }
   ],
   "source": [
    "print(f'Duplikasi data: {day_df.duplicated().sum()}')"
   ]
  },
  {
   "cell_type": "markdown",
   "id": "3b8b529b-21d3-4d13-bb58-8989014d1075",
   "metadata": {},
   "source": [
    "### mencari apakah ada data yang invalid atau tidak sesuai ketentuan"
   ]
  },
  {
   "cell_type": "code",
   "execution_count": 7,
   "id": "ad52c95b-f60a-418f-905b-8b0c09e5d91e",
   "metadata": {},
   "outputs": [
    {
     "data": {
      "text/html": [
       "<div>\n",
       "<style scoped>\n",
       "    .dataframe tbody tr th:only-of-type {\n",
       "        vertical-align: middle;\n",
       "    }\n",
       "\n",
       "    .dataframe tbody tr th {\n",
       "        vertical-align: top;\n",
       "    }\n",
       "\n",
       "    .dataframe thead th {\n",
       "        text-align: right;\n",
       "    }\n",
       "</style>\n",
       "<table border=\"1\" class=\"dataframe\">\n",
       "  <thead>\n",
       "    <tr style=\"text-align: right;\">\n",
       "      <th></th>\n",
       "      <th>instant</th>\n",
       "      <th>season</th>\n",
       "      <th>yr</th>\n",
       "      <th>mnth</th>\n",
       "      <th>holiday</th>\n",
       "      <th>weekday</th>\n",
       "      <th>workingday</th>\n",
       "      <th>weathersit</th>\n",
       "      <th>temp</th>\n",
       "      <th>atemp</th>\n",
       "      <th>hum</th>\n",
       "      <th>windspeed</th>\n",
       "      <th>casual</th>\n",
       "      <th>registered</th>\n",
       "      <th>cnt</th>\n",
       "    </tr>\n",
       "  </thead>\n",
       "  <tbody>\n",
       "    <tr>\n",
       "      <th>count</th>\n",
       "      <td>731.000000</td>\n",
       "      <td>731.000000</td>\n",
       "      <td>731.000000</td>\n",
       "      <td>731.000000</td>\n",
       "      <td>731.000000</td>\n",
       "      <td>731.000000</td>\n",
       "      <td>731.000000</td>\n",
       "      <td>731.000000</td>\n",
       "      <td>731.000000</td>\n",
       "      <td>731.000000</td>\n",
       "      <td>731.000000</td>\n",
       "      <td>731.000000</td>\n",
       "      <td>731.000000</td>\n",
       "      <td>731.000000</td>\n",
       "      <td>731.000000</td>\n",
       "    </tr>\n",
       "    <tr>\n",
       "      <th>mean</th>\n",
       "      <td>366.000000</td>\n",
       "      <td>2.496580</td>\n",
       "      <td>0.500684</td>\n",
       "      <td>6.519836</td>\n",
       "      <td>0.028728</td>\n",
       "      <td>2.997264</td>\n",
       "      <td>0.683995</td>\n",
       "      <td>1.395349</td>\n",
       "      <td>0.495385</td>\n",
       "      <td>0.474354</td>\n",
       "      <td>0.627894</td>\n",
       "      <td>0.190486</td>\n",
       "      <td>848.176471</td>\n",
       "      <td>3656.172367</td>\n",
       "      <td>4504.348837</td>\n",
       "    </tr>\n",
       "    <tr>\n",
       "      <th>std</th>\n",
       "      <td>211.165812</td>\n",
       "      <td>1.110807</td>\n",
       "      <td>0.500342</td>\n",
       "      <td>3.451913</td>\n",
       "      <td>0.167155</td>\n",
       "      <td>2.004787</td>\n",
       "      <td>0.465233</td>\n",
       "      <td>0.544894</td>\n",
       "      <td>0.183051</td>\n",
       "      <td>0.162961</td>\n",
       "      <td>0.142429</td>\n",
       "      <td>0.077498</td>\n",
       "      <td>686.622488</td>\n",
       "      <td>1560.256377</td>\n",
       "      <td>1937.211452</td>\n",
       "    </tr>\n",
       "    <tr>\n",
       "      <th>min</th>\n",
       "      <td>1.000000</td>\n",
       "      <td>1.000000</td>\n",
       "      <td>0.000000</td>\n",
       "      <td>1.000000</td>\n",
       "      <td>0.000000</td>\n",
       "      <td>0.000000</td>\n",
       "      <td>0.000000</td>\n",
       "      <td>1.000000</td>\n",
       "      <td>0.059130</td>\n",
       "      <td>0.079070</td>\n",
       "      <td>0.000000</td>\n",
       "      <td>0.022392</td>\n",
       "      <td>2.000000</td>\n",
       "      <td>20.000000</td>\n",
       "      <td>22.000000</td>\n",
       "    </tr>\n",
       "    <tr>\n",
       "      <th>25%</th>\n",
       "      <td>183.500000</td>\n",
       "      <td>2.000000</td>\n",
       "      <td>0.000000</td>\n",
       "      <td>4.000000</td>\n",
       "      <td>0.000000</td>\n",
       "      <td>1.000000</td>\n",
       "      <td>0.000000</td>\n",
       "      <td>1.000000</td>\n",
       "      <td>0.337083</td>\n",
       "      <td>0.337842</td>\n",
       "      <td>0.520000</td>\n",
       "      <td>0.134950</td>\n",
       "      <td>315.500000</td>\n",
       "      <td>2497.000000</td>\n",
       "      <td>3152.000000</td>\n",
       "    </tr>\n",
       "    <tr>\n",
       "      <th>50%</th>\n",
       "      <td>366.000000</td>\n",
       "      <td>3.000000</td>\n",
       "      <td>1.000000</td>\n",
       "      <td>7.000000</td>\n",
       "      <td>0.000000</td>\n",
       "      <td>3.000000</td>\n",
       "      <td>1.000000</td>\n",
       "      <td>1.000000</td>\n",
       "      <td>0.498333</td>\n",
       "      <td>0.486733</td>\n",
       "      <td>0.626667</td>\n",
       "      <td>0.180975</td>\n",
       "      <td>713.000000</td>\n",
       "      <td>3662.000000</td>\n",
       "      <td>4548.000000</td>\n",
       "    </tr>\n",
       "    <tr>\n",
       "      <th>75%</th>\n",
       "      <td>548.500000</td>\n",
       "      <td>3.000000</td>\n",
       "      <td>1.000000</td>\n",
       "      <td>10.000000</td>\n",
       "      <td>0.000000</td>\n",
       "      <td>5.000000</td>\n",
       "      <td>1.000000</td>\n",
       "      <td>2.000000</td>\n",
       "      <td>0.655417</td>\n",
       "      <td>0.608602</td>\n",
       "      <td>0.730209</td>\n",
       "      <td>0.233214</td>\n",
       "      <td>1096.000000</td>\n",
       "      <td>4776.500000</td>\n",
       "      <td>5956.000000</td>\n",
       "    </tr>\n",
       "    <tr>\n",
       "      <th>max</th>\n",
       "      <td>731.000000</td>\n",
       "      <td>4.000000</td>\n",
       "      <td>1.000000</td>\n",
       "      <td>12.000000</td>\n",
       "      <td>1.000000</td>\n",
       "      <td>6.000000</td>\n",
       "      <td>1.000000</td>\n",
       "      <td>3.000000</td>\n",
       "      <td>0.861667</td>\n",
       "      <td>0.840896</td>\n",
       "      <td>0.972500</td>\n",
       "      <td>0.507463</td>\n",
       "      <td>3410.000000</td>\n",
       "      <td>6946.000000</td>\n",
       "      <td>8714.000000</td>\n",
       "    </tr>\n",
       "  </tbody>\n",
       "</table>\n",
       "</div>"
      ],
      "text/plain": [
       "          instant      season          yr        mnth     holiday     weekday  \\\n",
       "count  731.000000  731.000000  731.000000  731.000000  731.000000  731.000000   \n",
       "mean   366.000000    2.496580    0.500684    6.519836    0.028728    2.997264   \n",
       "std    211.165812    1.110807    0.500342    3.451913    0.167155    2.004787   \n",
       "min      1.000000    1.000000    0.000000    1.000000    0.000000    0.000000   \n",
       "25%    183.500000    2.000000    0.000000    4.000000    0.000000    1.000000   \n",
       "50%    366.000000    3.000000    1.000000    7.000000    0.000000    3.000000   \n",
       "75%    548.500000    3.000000    1.000000   10.000000    0.000000    5.000000   \n",
       "max    731.000000    4.000000    1.000000   12.000000    1.000000    6.000000   \n",
       "\n",
       "       workingday  weathersit        temp       atemp         hum   windspeed  \\\n",
       "count  731.000000  731.000000  731.000000  731.000000  731.000000  731.000000   \n",
       "mean     0.683995    1.395349    0.495385    0.474354    0.627894    0.190486   \n",
       "std      0.465233    0.544894    0.183051    0.162961    0.142429    0.077498   \n",
       "min      0.000000    1.000000    0.059130    0.079070    0.000000    0.022392   \n",
       "25%      0.000000    1.000000    0.337083    0.337842    0.520000    0.134950   \n",
       "50%      1.000000    1.000000    0.498333    0.486733    0.626667    0.180975   \n",
       "75%      1.000000    2.000000    0.655417    0.608602    0.730209    0.233214   \n",
       "max      1.000000    3.000000    0.861667    0.840896    0.972500    0.507463   \n",
       "\n",
       "            casual   registered          cnt  \n",
       "count   731.000000   731.000000   731.000000  \n",
       "mean    848.176471  3656.172367  4504.348837  \n",
       "std     686.622488  1560.256377  1937.211452  \n",
       "min       2.000000    20.000000    22.000000  \n",
       "25%     315.500000  2497.000000  3152.000000  \n",
       "50%     713.000000  3662.000000  4548.000000  \n",
       "75%    1096.000000  4776.500000  5956.000000  \n",
       "max    3410.000000  6946.000000  8714.000000  "
      ]
     },
     "execution_count": 7,
     "metadata": {},
     "output_type": "execute_result"
    }
   ],
   "source": [
    "day_df.describe()"
   ]
  },
  {
   "cell_type": "markdown",
   "id": "04a3d4da-b2ec-437f-bdbb-5bff43b6558a",
   "metadata": {},
   "source": [
    "### Identifikasi Outliers"
   ]
  },
  {
   "cell_type": "code",
   "execution_count": 8,
   "id": "0b644647-7bef-4efb-b575-cf5bcdf1ad60",
   "metadata": {},
   "outputs": [],
   "source": [
    "q25, q75 = np.percentile(day_df['casual'], 25), np.percentile(day_df['casual'], 75)\n",
    "iqr = q75-q25\n",
    "cut_off = iqr * 1.5\n",
    "minimum, maximum = q25 - cut_off, q75 + cut_off\n",
    "\n",
    "outliers_casual_users = [x for x in day_df['casual'] if x < minimum or x > maximum]"
   ]
  },
  {
   "cell_type": "code",
   "execution_count": 9,
   "id": "7c7ccf0c-7c2f-4f28-b093-ac13fd69d90d",
   "metadata": {},
   "outputs": [],
   "source": [
    "q25, q75 = np.percentile(day_df['registered'], 25), np.percentile(day_df['registered'], 75)\n",
    "iqr = q75-q25\n",
    "cut_off = iqr * 1.5\n",
    "minimum, maximum = q25 - cut_off, q75 + cut_off\n",
    "\n",
    "outliers_registered_users = [x for x in day_df['registered'] if x < minimum or x > maximum]"
   ]
  },
  {
   "cell_type": "code",
   "execution_count": 10,
   "id": "4e67376c-8af3-4768-a9f6-fff5f0b2494d",
   "metadata": {},
   "outputs": [
    {
     "name": "stdout",
     "output_type": "stream",
     "text": [
      "Banyak outlier pengguna casual: 44\n"
     ]
    }
   ],
   "source": [
    "if outliers_casual_users:\n",
    "    print(f'Banyak outlier pengguna casual: {len(outliers_casual_users)}')\n",
    "else:\n",
    "    print('Tidak terdapat outliers')"
   ]
  },
  {
   "cell_type": "code",
   "execution_count": 11,
   "id": "3a3ee7d7-9e1f-4942-a2f4-bac040bfeb61",
   "metadata": {},
   "outputs": [
    {
     "name": "stdout",
     "output_type": "stream",
     "text": [
      "Tidak terdapat outliers\n"
     ]
    }
   ],
   "source": [
    "if outliers_registered_users:\n",
    "    print(f'Banyak outlier pengguna casual: {len(outliers_registered_users)}')\n",
    "else:\n",
    "    print('Tidak terdapat outliers')"
   ]
  },
  {
   "cell_type": "markdown",
   "id": "a763f866-598f-4971-9e9a-0e7f586a8c0e",
   "metadata": {},
   "source": [
    "**Insight:**\n",
    "- assessing data berdasarkan missing value dan duplicated data menunjukan tidak adanya keanehan dalam data\n",
    "- berdasarkan descriptive statistics tidak ditemukan adanya data yang invalid\n",
    "- column/feature casual terdapat "
   ]
  },
  {
   "cell_type": "markdown",
   "id": "5b69b7dd-41e9-45f7-9cb9-cc205af3fedb",
   "metadata": {},
   "source": [
    "## Cleaning Data"
   ]
  },
  {
   "cell_type": "markdown",
   "id": "b193270e-bb46-47b1-86c5-ad30ff1f996e",
   "metadata": {},
   "source": [
    "### mengatasi outlier dengan batas minimum atau maximum"
   ]
  },
  {
   "cell_type": "code",
   "execution_count": 18,
   "id": "8141ebf5-a2b1-435c-a227-441ea3876b9a",
   "metadata": {},
   "outputs": [
    {
     "ename": "SyntaxError",
     "evalue": "positional argument follows keyword argument (1860333534.py, line 4)",
     "output_type": "error",
     "traceback": [
      "\u001b[1;36m  Cell \u001b[1;32mIn[18], line 4\u001b[1;36m\u001b[0m\n\u001b[1;33m    day_df['casual'].mask(cond = kondisi_more_than, maximum, inplace=True)\u001b[0m\n\u001b[1;37m                                                                         ^\u001b[0m\n\u001b[1;31mSyntaxError\u001b[0m\u001b[1;31m:\u001b[0m positional argument follows keyword argument\n"
     ]
    }
   ],
   "source": [
    "kondisi_lower_than = day_df['casual'] < minimum\n",
    "kondisi_more_than = day_df['casual'] > maximum\n",
    "\n",
    "day_df['casual'].mask(cond = kondisi_more_than, maximum, inplace=True)\n",
    "day_df['casual'].mask(cond = kondisi_lower_than, minimum, inplace=True)"
   ]
  },
  {
   "cell_type": "markdown",
   "id": "41b301d0-0f8e-4143-ba8e-23017c5bbe3b",
   "metadata": {},
   "source": [
    "### mengganti nama column agar lebih merepresentasikan isinya"
   ]
  },
  {
   "cell_type": "code",
   "execution_count": 13,
   "id": "6afff63e-9a12-4c3c-a4b7-daff3b7af775",
   "metadata": {},
   "outputs": [],
   "source": [
    "day_df.rename(columns={\n",
    "    'dteday': 'date',\n",
    "    'yr': 'year',\n",
    "    'mnth': 'month',\n",
    "    'cnt': 'total_book',\n",
    "}, inplace=True)"
   ]
  },
  {
   "cell_type": "code",
   "execution_count": 14,
   "id": "4b44f46d-dd93-4eed-9e42-faed8ae6931e",
   "metadata": {},
   "outputs": [],
   "source": [
    "day_df['date'] = pd.to_datetime(day_df['date'])"
   ]
  },
  {
   "cell_type": "code",
   "execution_count": 15,
   "id": "1e49befd-3069-4c09-b84a-3f287fa040b2",
   "metadata": {},
   "outputs": [
    {
     "name": "stdout",
     "output_type": "stream",
     "text": [
      "<class 'pandas.core.frame.DataFrame'>\n",
      "RangeIndex: 731 entries, 0 to 730\n",
      "Data columns (total 16 columns):\n",
      " #   Column      Non-Null Count  Dtype         \n",
      "---  ------      --------------  -----         \n",
      " 0   instant     731 non-null    int64         \n",
      " 1   date        731 non-null    datetime64[ns]\n",
      " 2   season      731 non-null    int64         \n",
      " 3   year        731 non-null    int64         \n",
      " 4   month       731 non-null    int64         \n",
      " 5   holiday     731 non-null    int64         \n",
      " 6   weekday     731 non-null    int64         \n",
      " 7   workingday  731 non-null    int64         \n",
      " 8   weathersit  731 non-null    int64         \n",
      " 9   temp        731 non-null    float64       \n",
      " 10  atemp       731 non-null    float64       \n",
      " 11  hum         731 non-null    float64       \n",
      " 12  windspeed   731 non-null    float64       \n",
      " 13  casual      731 non-null    int64         \n",
      " 14  registered  731 non-null    int64         \n",
      " 15  total_book  731 non-null    int64         \n",
      "dtypes: datetime64[ns](1), float64(4), int64(11)\n",
      "memory usage: 91.5 KB\n"
     ]
    }
   ],
   "source": [
    "day_df.info()"
   ]
  },
  {
   "cell_type": "code",
   "execution_count": 16,
   "id": "e3d94214-03fa-4e1c-9b97-3a26e7e9c220",
   "metadata": {},
   "outputs": [],
   "source": [
    "day_df['season'] = day_df['season'].apply(lambda season: 'spring' if season == 1 else ('summer' if season == 2 else ('fall' if season == 3 else 'winter')))"
   ]
  },
  {
   "cell_type": "code",
   "execution_count": 17,
   "id": "91bb5467-1f46-4496-9bd2-f0bedca7425d",
   "metadata": {},
   "outputs": [
    {
     "data": {
      "text/html": [
       "<div>\n",
       "<style scoped>\n",
       "    .dataframe tbody tr th:only-of-type {\n",
       "        vertical-align: middle;\n",
       "    }\n",
       "\n",
       "    .dataframe tbody tr th {\n",
       "        vertical-align: top;\n",
       "    }\n",
       "\n",
       "    .dataframe thead th {\n",
       "        text-align: right;\n",
       "    }\n",
       "</style>\n",
       "<table border=\"1\" class=\"dataframe\">\n",
       "  <thead>\n",
       "    <tr style=\"text-align: right;\">\n",
       "      <th></th>\n",
       "      <th>instant</th>\n",
       "      <th>date</th>\n",
       "      <th>season</th>\n",
       "      <th>year</th>\n",
       "      <th>month</th>\n",
       "      <th>holiday</th>\n",
       "      <th>weekday</th>\n",
       "      <th>workingday</th>\n",
       "      <th>weathersit</th>\n",
       "      <th>temp</th>\n",
       "      <th>atemp</th>\n",
       "      <th>hum</th>\n",
       "      <th>windspeed</th>\n",
       "      <th>casual</th>\n",
       "      <th>registered</th>\n",
       "      <th>total_book</th>\n",
       "    </tr>\n",
       "  </thead>\n",
       "  <tbody>\n",
       "    <tr>\n",
       "      <th>107</th>\n",
       "      <td>108</td>\n",
       "      <td>2011-04-18</td>\n",
       "      <td>summer</td>\n",
       "      <td>0</td>\n",
       "      <td>4</td>\n",
       "      <td>0</td>\n",
       "      <td>1</td>\n",
       "      <td>1</td>\n",
       "      <td>1</td>\n",
       "      <td>0.512500</td>\n",
       "      <td>0.503146</td>\n",
       "      <td>0.542500</td>\n",
       "      <td>0.163567</td>\n",
       "      <td>669</td>\n",
       "      <td>2760</td>\n",
       "      <td>3429</td>\n",
       "    </tr>\n",
       "    <tr>\n",
       "      <th>112</th>\n",
       "      <td>113</td>\n",
       "      <td>2011-04-23</td>\n",
       "      <td>summer</td>\n",
       "      <td>0</td>\n",
       "      <td>4</td>\n",
       "      <td>0</td>\n",
       "      <td>6</td>\n",
       "      <td>0</td>\n",
       "      <td>2</td>\n",
       "      <td>0.460000</td>\n",
       "      <td>0.450121</td>\n",
       "      <td>0.887917</td>\n",
       "      <td>0.230725</td>\n",
       "      <td>1462</td>\n",
       "      <td>2574</td>\n",
       "      <td>4036</td>\n",
       "    </tr>\n",
       "    <tr>\n",
       "      <th>556</th>\n",
       "      <td>557</td>\n",
       "      <td>2012-07-10</td>\n",
       "      <td>fall</td>\n",
       "      <td>1</td>\n",
       "      <td>7</td>\n",
       "      <td>0</td>\n",
       "      <td>2</td>\n",
       "      <td>1</td>\n",
       "      <td>2</td>\n",
       "      <td>0.720833</td>\n",
       "      <td>0.664796</td>\n",
       "      <td>0.667500</td>\n",
       "      <td>0.151737</td>\n",
       "      <td>954</td>\n",
       "      <td>5336</td>\n",
       "      <td>6290</td>\n",
       "    </tr>\n",
       "    <tr>\n",
       "      <th>270</th>\n",
       "      <td>271</td>\n",
       "      <td>2011-09-28</td>\n",
       "      <td>winter</td>\n",
       "      <td>0</td>\n",
       "      <td>9</td>\n",
       "      <td>0</td>\n",
       "      <td>3</td>\n",
       "      <td>1</td>\n",
       "      <td>2</td>\n",
       "      <td>0.635000</td>\n",
       "      <td>0.575158</td>\n",
       "      <td>0.848750</td>\n",
       "      <td>0.148629</td>\n",
       "      <td>480</td>\n",
       "      <td>3427</td>\n",
       "      <td>3907</td>\n",
       "    </tr>\n",
       "    <tr>\n",
       "      <th>278</th>\n",
       "      <td>279</td>\n",
       "      <td>2011-10-06</td>\n",
       "      <td>winter</td>\n",
       "      <td>0</td>\n",
       "      <td>10</td>\n",
       "      <td>0</td>\n",
       "      <td>4</td>\n",
       "      <td>1</td>\n",
       "      <td>1</td>\n",
       "      <td>0.494167</td>\n",
       "      <td>0.480425</td>\n",
       "      <td>0.620833</td>\n",
       "      <td>0.134954</td>\n",
       "      <td>639</td>\n",
       "      <td>4126</td>\n",
       "      <td>4765</td>\n",
       "    </tr>\n",
       "  </tbody>\n",
       "</table>\n",
       "</div>"
      ],
      "text/plain": [
       "     instant       date  season  year  month  holiday  weekday  workingday  \\\n",
       "107      108 2011-04-18  summer     0      4        0        1           1   \n",
       "112      113 2011-04-23  summer     0      4        0        6           0   \n",
       "556      557 2012-07-10    fall     1      7        0        2           1   \n",
       "270      271 2011-09-28  winter     0      9        0        3           1   \n",
       "278      279 2011-10-06  winter     0     10        0        4           1   \n",
       "\n",
       "     weathersit      temp     atemp       hum  windspeed  casual  registered  \\\n",
       "107           1  0.512500  0.503146  0.542500   0.163567     669        2760   \n",
       "112           2  0.460000  0.450121  0.887917   0.230725    1462        2574   \n",
       "556           2  0.720833  0.664796  0.667500   0.151737     954        5336   \n",
       "270           2  0.635000  0.575158  0.848750   0.148629     480        3427   \n",
       "278           1  0.494167  0.480425  0.620833   0.134954     639        4126   \n",
       "\n",
       "     total_book  \n",
       "107        3429  \n",
       "112        4036  \n",
       "556        6290  \n",
       "270        3907  \n",
       "278        4765  "
      ]
     },
     "execution_count": 17,
     "metadata": {},
     "output_type": "execute_result"
    }
   ],
   "source": [
    "day_df.sample(5)"
   ]
  },
  {
   "cell_type": "markdown",
   "id": "320816b1-570e-457a-9921-eab5f743ecc2",
   "metadata": {},
   "source": [
    "**Insight:**\n",
    "- insight1\n",
    "- insight2"
   ]
  },
  {
   "cell_type": "markdown",
   "id": "588c8fc0-9161-425a-b813-40533b30755c",
   "metadata": {},
   "source": [
    "# Exploratory Data Analysis (EDA)"
   ]
  },
  {
   "cell_type": "markdown",
   "id": "7ea83840-4f55-4b46-abfe-00fd1725f387",
   "metadata": {},
   "source": [
    "## Explore"
   ]
  },
  {
   "cell_type": "markdown",
   "id": "8d69dcf7-5349-42b9-8b15-95d84cabcbc7",
   "metadata": {},
   "source": [
    "**Insight:**\n",
    "- insight1\n",
    "- insight2"
   ]
  },
  {
   "cell_type": "markdown",
   "id": "a9c75c68-c766-4e8e-a9d0-49a9e2f74779",
   "metadata": {},
   "source": [
    "# Visualization & Explanatory Analysis"
   ]
  },
  {
   "cell_type": "markdown",
   "id": "9dbfa877-5d4b-4e35-8863-00dd084847b7",
   "metadata": {},
   "source": [
    "## Pertanyaan 1:"
   ]
  },
  {
   "cell_type": "code",
   "execution_count": null,
   "id": "d2188676-4bed-4f4f-b8c6-af45f87891f3",
   "metadata": {},
   "outputs": [],
   "source": []
  },
  {
   "cell_type": "markdown",
   "id": "33c8b964-cea4-4f29-9a69-5b2d3fe52ecb",
   "metadata": {},
   "source": [
    "## Pertanyaan 2:"
   ]
  },
  {
   "cell_type": "code",
   "execution_count": null,
   "id": "525c23d9-e30e-4971-ab62-3dbdba52f30f",
   "metadata": {},
   "outputs": [],
   "source": []
  },
  {
   "cell_type": "markdown",
   "id": "96428ad2-7ac9-4266-b798-6cc322d560e5",
   "metadata": {},
   "source": [
    "**Insight:**\n",
    "- insight1\n",
    "- insight2"
   ]
  },
  {
   "cell_type": "markdown",
   "id": "3318d34b-2a0e-499b-a7a4-4a4a68201f79",
   "metadata": {},
   "source": [
    "# Analisis Lanjutan (RFM or other | Optional)"
   ]
  },
  {
   "cell_type": "code",
   "execution_count": null,
   "id": "92d553e6-32e9-4241-94a6-e9a38d2f1aea",
   "metadata": {},
   "outputs": [],
   "source": []
  },
  {
   "cell_type": "markdown",
   "id": "20251d1a-3e07-4303-b2f9-6a981efed220",
   "metadata": {},
   "source": [
    "# Conclusion"
   ]
  },
  {
   "cell_type": "markdown",
   "id": "8f509812-52a7-4877-892d-0ee49e1e6311",
   "metadata": {},
   "source": [
    "- conc 1\n",
    "- conc 2"
   ]
  }
 ],
 "metadata": {
  "kernelspec": {
   "display_name": "Python 3 (ipykernel)",
   "language": "python",
   "name": "python3"
  },
  "language_info": {
   "codemirror_mode": {
    "name": "ipython",
    "version": 3
   },
   "file_extension": ".py",
   "mimetype": "text/x-python",
   "name": "python",
   "nbconvert_exporter": "python",
   "pygments_lexer": "ipython3",
   "version": "3.12.6"
  }
 },
 "nbformat": 4,
 "nbformat_minor": 5
}
